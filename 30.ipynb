{
 "cells": [
  {
   "cell_type": "code",
   "execution_count": null,
   "metadata": {},
   "outputs": [],
   "source": [
    "from module.hashem import *\n",
    "from module.stg_def import *\n",
    "from module.stg import *\n",
    "\n",
    "accounts = [\n",
    "    {\"login\": 6359497, \"password\": \"YnHc@q6y\", \"server\": \"OANDA-Demo-1\"},\n",
    "    {\"login\": 6359640, \"password\": \"*yEiPf7f\", \"server\": \"OANDA-Demo-1\"},\n",
    "]\n",
    "\n",
    "def find_gold_symbol():\n",
    "    gold_symbols = [\"XAUUSD\", \"GOLD\", \"XAUUSDm\", \"XAUUSD.i\", \"XAUUSD.sml\", \"XAUUSD.\"]\n",
    "    symbols = mt5.symbols_get()\n",
    "    for sym in symbols:\n",
    "        if sym.name in gold_symbols:\n",
    "            return sym.name\n",
    "    return None\n",
    "\n",
    "def trade_on_account(account_info):\n",
    "    mt5.shutdown()\n",
    "    time.sleep(1)\n",
    "    mt5.initialize()\n",
    "    mt5.login(account_info[\"login\"], account_info[\"password\"], account_info[\"server\"])\n",
    "       \n",
    "for account in accounts:\n",
    "    trade_on_account(account)\n",
    "    symbol = find_gold_symbol()\n",
    "    price = mt5.symbol_info_tick(symbol).ask\n",
    "    create_order(symbol , 0.01 , buy , price ,price - 4 , price + 4 , 'hi')\n"
   ]
  }
 ],
 "metadata": {
  "kernelspec": {
   "display_name": "Python 3",
   "language": "python",
   "name": "python3"
  },
  "language_info": {
   "codemirror_mode": {
    "name": "ipython",
    "version": 3
   },
   "file_extension": ".py",
   "mimetype": "text/x-python",
   "name": "python",
   "nbconvert_exporter": "python",
   "pygments_lexer": "ipython3",
   "version": "3.12.2"
  }
 },
 "nbformat": 4,
 "nbformat_minor": 2
}
